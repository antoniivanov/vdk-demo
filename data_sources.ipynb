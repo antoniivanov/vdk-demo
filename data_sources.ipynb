{
  "nbformat": 4,
  "nbformat_minor": 0,
  "metadata": {
    "colab": {
      "provenance": [],
      "authorship_tag": "ABX9TyNamRPaKc5Cb2vXYRTEXuqa",
      "include_colab_link": true
    },
    "kernelspec": {
      "name": "python3",
      "display_name": "Python 3"
    },
    "language_info": {
      "name": "python"
    }
  },
  "cells": [
    {
      "cell_type": "markdown",
      "metadata": {
        "id": "view-in-github",
        "colab_type": "text"
      },
      "source": [
        "<a href=\"https://colab.research.google.com/github/antoniivanov/vdk-demo/blob/main/data_sources.ipynb\" target=\"_parent\"><img src=\"https://colab.research.google.com/assets/colab-badge.svg\" alt=\"Open In Colab\"/></a>"
      ]
    },
    {
      "cell_type": "code",
      "execution_count": null,
      "metadata": {
        "id": "ioqB6tmmvdT2"
      },
      "outputs": [],
      "source": [
        "!pip install quickstart-vdk vdk-notebook vdk-ipython vdk-duckdb"
      ]
    },
    {
      "cell_type": "code",
      "source": [
        "!pip install -U --index-url https://test.pypi.org/simple vdk-data-sources vdk-singer vdk-huggingface vdk-data-source-git vdk-ipython"
      ],
      "metadata": {
        "id": "-bOA4AhvvtrA"
      },
      "execution_count": null,
      "outputs": []
    },
    {
      "cell_type": "code",
      "source": [
        "%env DB_DEFAULT_TYPE=sqlite\n",
        "%env INGEST_METHOD_DEFAULT=sqlite\n",
        "%env INGESTER_WAIT_TO_FINISH_AFTER_EVERY_SEND=true"
      ],
      "metadata": {
        "id": "NtkrevBJOmoB"
      },
      "execution_count": null,
      "outputs": []
    },
    {
      "cell_type": "code",
      "source": [
        "%load_ext vdk.plugin.ipython\n",
        "%reload_VDK"
      ],
      "metadata": {
        "id": "17HXmGtwwHeX"
      },
      "execution_count": 2,
      "outputs": []
    },
    {
      "cell_type": "code",
      "source": [
        "job_input = VDK.get_initialized_job_input()\n"
      ],
      "metadata": {
        "id": "xS5BcRMcfRqW"
      },
      "execution_count": null,
      "outputs": []
    },
    {
      "cell_type": "code",
      "source": [
        "!vdk data-sources --list"
      ],
      "metadata": {
        "id": "xWmA2C-OrUGB"
      },
      "execution_count": null,
      "outputs": []
    },
    {
      "cell_type": "code",
      "source": [
        "!vdk singer --list-taps"
      ],
      "metadata": {
        "id": "CchIAjXVsGOG"
      },
      "execution_count": null,
      "outputs": []
    },
    {
      "cell_type": "code",
      "source": [
        "!pip install tap-rest-api-msdk"
      ],
      "metadata": {
        "id": "Pb8FxafQUAoV"
      },
      "execution_count": null,
      "outputs": []
    },
    {
      "cell_type": "code",
      "source": [
        "\n",
        "from vdk.plugin.data_sources.mapping.data_flow import DataFlowInput\n",
        "from vdk.plugin.data_sources.mapping.definitions import DestinationDefinition\n",
        "from vdk.plugin.data_sources.mapping.definitions import SourceDefinition\n",
        "\n",
        "config = dict(tap_name=\"tap-rest-api-msdk\",\n",
        "              tap_config={\n",
        "                  \"api_url\": \"https://jsonplaceholder.typicode.com\",\n",
        "                  \"streams\": [\n",
        "                      {\n",
        "                          \"name\": \"users\",\n",
        "                          \"path\": \"/users\",\n",
        "                          \"records_path\": \"$.[*]\",\n",
        "                          \"num_inference_records\": 200,\n",
        "                      }\n",
        "                  ],\n",
        "              },\n",
        "              tap_auto_discover_schema=True)\n",
        "\n",
        "source=SourceDefinition(id=\"users\", name=\"singer-tap\", config=config)\n",
        "sqlite_destination=DestinationDefinition(id=\"sqlite\", method=\"sqlite\")\n",
        "\n"
      ],
      "metadata": {
        "id": "Ip3eziAMQDIr"
      },
      "execution_count": 4,
      "outputs": []
    },
    {
      "cell_type": "code",
      "source": [
        "with DataFlowInput(job_input) as flow_input:\n",
        "  flow_input.start(source, destination)"
      ],
      "metadata": {
        "id": "RI_pQ0soYfCW"
      },
      "execution_count": null,
      "outputs": []
    },
    {
      "cell_type": "code",
      "source": [
        "%%ingest\n",
        "\n",
        "[sources.users]\n",
        "name = \"singer-tap\"\n",
        "config.tap_name = \"tap-rest-api-msdk\"\n",
        "\n",
        "[sources.users.config.tap_config]\n",
        "api_url = \"https://jsonplaceholder.typicode.com\"\n",
        "\n",
        "[[sources.users.config.tap_config.streams]]\n",
        "name = \"users\"\n",
        "path = \"/users\"\n",
        "records_path = \"$.[*]\"\n",
        "num_inference_records = 200\n",
        "\n",
        "[destinations.sqlite]\n",
        "method=\"sqlite\"\n",
        "\n",
        "[[flows]]\n",
        "from=\"users\"\n",
        "to=\"sqlite\""
      ],
      "metadata": {
        "id": "Ouz1pJdfVRdo"
      },
      "execution_count": null,
      "outputs": []
    },
    {
      "cell_type": "code",
      "source": [],
      "metadata": {
        "id": "qco95jEwRR5f"
      },
      "execution_count": null,
      "outputs": []
    },
    {
      "cell_type": "code",
      "source": [
        "%%vdksql\n",
        "select * from users"
      ],
      "metadata": {
        "id": "z4s6gw9aG7vJ"
      },
      "execution_count": null,
      "outputs": []
    },
    {
      "cell_type": "code",
      "source": [],
      "metadata": {
        "id": "UzSQR52v2AfS"
      },
      "execution_count": null,
      "outputs": []
    }
  ]
}